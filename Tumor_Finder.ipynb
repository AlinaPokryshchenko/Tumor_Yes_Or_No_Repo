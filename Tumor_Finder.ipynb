{
 "cells": [
  {
   "cell_type": "code",
   "execution_count": 6,
   "metadata": {},
   "outputs": [],
   "source": [
    "import numpy as np\n",
    "import pandas as pd\n",
    "import os"
   ]
  },
  {
   "cell_type": "code",
   "execution_count": 7,
   "metadata": {},
   "outputs": [
    {
     "data": {
      "text/html": [
       "<div>\n",
       "<style scoped>\n",
       "    .dataframe tbody tr th:only-of-type {\n",
       "        vertical-align: middle;\n",
       "    }\n",
       "\n",
       "    .dataframe tbody tr th {\n",
       "        vertical-align: top;\n",
       "    }\n",
       "\n",
       "    .dataframe thead th {\n",
       "        text-align: right;\n",
       "    }\n",
       "</style>\n",
       "<table border=\"1\" class=\"dataframe\">\n",
       "  <thead>\n",
       "    <tr style=\"text-align: right;\">\n",
       "      <th></th>\n",
       "      <th>image_path</th>\n",
       "      <th>class</th>\n",
       "    </tr>\n",
       "  </thead>\n",
       "  <tbody>\n",
       "    <tr>\n",
       "      <th>0</th>\n",
       "      <td>C:\\Users\\Sergey\\Untitled Folder 2\\brain_tumor_...</td>\n",
       "      <td>no</td>\n",
       "    </tr>\n",
       "    <tr>\n",
       "      <th>1</th>\n",
       "      <td>C:\\Users\\Sergey\\Untitled Folder 2\\brain_tumor_...</td>\n",
       "      <td>no</td>\n",
       "    </tr>\n",
       "    <tr>\n",
       "      <th>2</th>\n",
       "      <td>C:\\Users\\Sergey\\Untitled Folder 2\\brain_tumor_...</td>\n",
       "      <td>no</td>\n",
       "    </tr>\n",
       "    <tr>\n",
       "      <th>3</th>\n",
       "      <td>C:\\Users\\Sergey\\Untitled Folder 2\\brain_tumor_...</td>\n",
       "      <td>no</td>\n",
       "    </tr>\n",
       "    <tr>\n",
       "      <th>4</th>\n",
       "      <td>C:\\Users\\Sergey\\Untitled Folder 2\\brain_tumor_...</td>\n",
       "      <td>no</td>\n",
       "    </tr>\n",
       "  </tbody>\n",
       "</table>\n",
       "</div>"
      ],
      "text/plain": [
       "                                          image_path class\n",
       "0  C:\\Users\\Sergey\\Untitled Folder 2\\brain_tumor_...    no\n",
       "1  C:\\Users\\Sergey\\Untitled Folder 2\\brain_tumor_...    no\n",
       "2  C:\\Users\\Sergey\\Untitled Folder 2\\brain_tumor_...    no\n",
       "3  C:\\Users\\Sergey\\Untitled Folder 2\\brain_tumor_...    no\n",
       "4  C:\\Users\\Sergey\\Untitled Folder 2\\brain_tumor_...    no"
      ]
     },
     "execution_count": 7,
     "metadata": {},
     "output_type": "execute_result"
    }
   ],
   "source": [
    "images_path_no = [os.path.abspath('brain_tumor_dataset/no/' + name) for name in os.listdir('brain_tumor_dataset/no/')]\n",
    "no_label = ['no']*len(images_path_no)\n",
    "\n",
    "images_path_yes = [os.path.abspath('brain_tumor_dataset/yes/' + name) for name in os.listdir('brain_tumor_dataset/yes/')]\n",
    "yes_label = ['yes']*len(images_path_yes)\n",
    "\n",
    "matrix = np.asarray ([images_path_no + images_path_yes, no_label + yes_label]).T\n",
    "\n",
    "data = pd.DataFrame (matrix, columns=['image_path', 'class'])\n",
    "data.head ()"
   ]
  },
  {
   "cell_type": "code",
   "execution_count": 10,
   "metadata": {},
   "outputs": [],
   "source": [
    "from ludwig.api import LudwigModel\n",
    "\n",
    "# train a model\n",
    "model_definition = {'input_features': [{'name': 'image_path', 'type': 'image', \n",
    "                                        'preprocessing':{'height': 128, 'width': 128, \n",
    "                                        'resize_method': 'interpolate', 'scaling': 'pixel_normalization', 'num_channels':1}}], \\\n",
    "                    'output_features': [{'name': 'class', 'type': 'category'}]}\n",
    "model = LudwigModel(model_definition)"
   ]
  },
  {
   "cell_type": "code",
   "execution_count": 11,
   "metadata": {},
   "outputs": [
    {
     "name": "stdout",
     "output_type": "stream",
     "text": [
      "WARNING:tensorflow:From C:\\ProgramData\\Anaconda3\\lib\\site-packages\\ludwig\\models\\modules\\convolutional_modules.py:74: dropout (from tensorflow.python.layers.core) is deprecated and will be removed in a future version.\n",
      "Instructions for updating:\n",
      "Use keras.layers.dropout instead.\n",
      "WARNING:tensorflow:From C:\\ProgramData\\Anaconda3\\lib\\site-packages\\tensorflow_core\\python\\layers\\core.py:271: Layer.apply (from tensorflow.python.keras.engine.base_layer) is deprecated and will be removed in a future version.\n",
      "Instructions for updating:\n",
      "Please use `layer.__call__` method instead.\n",
      "WARNING:tensorflow:From C:\\ProgramData\\Anaconda3\\lib\\site-packages\\ludwig\\models\\modules\\convolutional_modules.py:585: The name tf.nn.max_pool is deprecated. Please use tf.nn.max_pool2d instead.\n",
      "\n"
     ]
    }
   ],
   "source": [
    "train_stats = model.train(data)"
   ]
  },
  {
   "cell_type": "code",
   "execution_count": 13,
   "metadata": {},
   "outputs": [
    {
     "data": {
      "text/html": [
       "<div>\n",
       "<style scoped>\n",
       "    .dataframe tbody tr th:only-of-type {\n",
       "        vertical-align: middle;\n",
       "    }\n",
       "\n",
       "    .dataframe tbody tr th {\n",
       "        vertical-align: top;\n",
       "    }\n",
       "\n",
       "    .dataframe thead th {\n",
       "        text-align: right;\n",
       "    }\n",
       "</style>\n",
       "<table border=\"1\" class=\"dataframe\">\n",
       "  <thead>\n",
       "    <tr style=\"text-align: right;\">\n",
       "      <th></th>\n",
       "      <th>image_path</th>\n",
       "      <th>class</th>\n",
       "    </tr>\n",
       "  </thead>\n",
       "  <tbody>\n",
       "    <tr>\n",
       "      <th>0</th>\n",
       "      <td>C:\\Users\\Sergey\\Untitled Folder 2\\test_dataset...</td>\n",
       "      <td>yes</td>\n",
       "    </tr>\n",
       "    <tr>\n",
       "      <th>1</th>\n",
       "      <td>C:\\Users\\Sergey\\Untitled Folder 2\\test_dataset...</td>\n",
       "      <td>yes</td>\n",
       "    </tr>\n",
       "    <tr>\n",
       "      <th>2</th>\n",
       "      <td>C:\\Users\\Sergey\\Untitled Folder 2\\test_dataset...</td>\n",
       "      <td>yes</td>\n",
       "    </tr>\n",
       "    <tr>\n",
       "      <th>3</th>\n",
       "      <td>C:\\Users\\Sergey\\Untitled Folder 2\\test_dataset...</td>\n",
       "      <td>yes</td>\n",
       "    </tr>\n",
       "    <tr>\n",
       "      <th>4</th>\n",
       "      <td>C:\\Users\\Sergey\\Untitled Folder 2\\test_dataset...</td>\n",
       "      <td>yes</td>\n",
       "    </tr>\n",
       "  </tbody>\n",
       "</table>\n",
       "</div>"
      ],
      "text/plain": [
       "                                          image_path class\n",
       "0  C:\\Users\\Sergey\\Untitled Folder 2\\test_dataset...   yes\n",
       "1  C:\\Users\\Sergey\\Untitled Folder 2\\test_dataset...   yes\n",
       "2  C:\\Users\\Sergey\\Untitled Folder 2\\test_dataset...   yes\n",
       "3  C:\\Users\\Sergey\\Untitled Folder 2\\test_dataset...   yes\n",
       "4  C:\\Users\\Sergey\\Untitled Folder 2\\test_dataset...   yes"
      ]
     },
     "execution_count": 13,
     "metadata": {},
     "output_type": "execute_result"
    }
   ],
   "source": [
    "test_y = [os.path.abspath('test_dataset/yes/' + name) for name in os.listdir('test_dataset/yes/')]\n",
    "y_label = ['yes']*len(test_y)\n",
    "\n",
    "test_n = [os.path.abspath('test_dataset/no/' + name) for name in os.listdir('test_dataset/no/')]\n",
    "n_label = ['no']*len(test_n)\n",
    "\n",
    "matrix2 = np.asarray ([test_y + test_n, y_label + n_label]).T\n",
    "\n",
    "data2 = pd.DataFrame (matrix2, columns=['image_path', 'class'])\n",
    "data2.head ()"
   ]
  },
  {
   "cell_type": "code",
   "execution_count": 14,
   "metadata": {},
   "outputs": [],
   "source": [
    "prediction = model.predict (data2)"
   ]
  },
  {
   "cell_type": "code",
   "execution_count": 15,
   "metadata": {},
   "outputs": [
    {
     "data": {
      "text/plain": [
       "0.9113924050632911"
      ]
     },
     "execution_count": 15,
     "metadata": {},
     "output_type": "execute_result"
    }
   ],
   "source": [
    "np.sum (prediction ['class_predictions'] == data2['class']) / data2.shape[0]"
   ]
  },
  {
   "cell_type": "code",
   "execution_count": 16,
   "metadata": {},
   "outputs": [
    {
     "data": {
      "text/plain": [
       "0      True\n",
       "1      True\n",
       "2      True\n",
       "3      True\n",
       "4      True\n",
       "5      True\n",
       "6      True\n",
       "7      True\n",
       "8      True\n",
       "9      True\n",
       "10     True\n",
       "11     True\n",
       "12     True\n",
       "13     True\n",
       "14     True\n",
       "15     True\n",
       "16     True\n",
       "17     True\n",
       "18     True\n",
       "19     True\n",
       "20     True\n",
       "21     True\n",
       "22     True\n",
       "23     True\n",
       "24     True\n",
       "25     True\n",
       "26     True\n",
       "27     True\n",
       "28     True\n",
       "29     True\n",
       "      ...  \n",
       "49     True\n",
       "50     True\n",
       "51     True\n",
       "52     True\n",
       "53     True\n",
       "54     True\n",
       "55    False\n",
       "56     True\n",
       "57     True\n",
       "58     True\n",
       "59     True\n",
       "60    False\n",
       "61    False\n",
       "62     True\n",
       "63     True\n",
       "64     True\n",
       "65     True\n",
       "66     True\n",
       "67    False\n",
       "68     True\n",
       "69     True\n",
       "70     True\n",
       "71     True\n",
       "72     True\n",
       "73    False\n",
       "74     True\n",
       "75     True\n",
       "76     True\n",
       "77     True\n",
       "78     True\n",
       "Length: 79, dtype: bool"
      ]
     },
     "execution_count": 16,
     "metadata": {},
     "output_type": "execute_result"
    }
   ],
   "source": [
    "prediction ['class_predictions'] == data2['class']"
   ]
  },
  {
   "cell_type": "code",
   "execution_count": null,
   "metadata": {},
   "outputs": [],
   "source": []
  }
 ],
 "metadata": {
  "kernelspec": {
   "display_name": "Python 3",
   "language": "python",
   "name": "python3"
  },
  "language_info": {
   "codemirror_mode": {
    "name": "ipython",
    "version": 3
   },
   "file_extension": ".py",
   "mimetype": "text/x-python",
   "name": "python",
   "nbconvert_exporter": "python",
   "pygments_lexer": "ipython3",
   "version": "3.7.3"
  }
 },
 "nbformat": 4,
 "nbformat_minor": 2
}
